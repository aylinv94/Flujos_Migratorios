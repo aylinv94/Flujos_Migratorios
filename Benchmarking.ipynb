{
 "cells": [
  {
   "attachments": {},
   "cell_type": "markdown",
   "metadata": {},
   "source": [
    "# <center>***Research - Benchmarking*** </center>\n",
    "### Possible solutions on the project path\n",
    "\n",
    "### There is a wide variety of platforms that address the issue of migration and provide different services. Some of these are:\n",
    "\n",
    "### **1.Information and advice platforms:** These platforms provide information and advice on the migration process to people interested in moving to another country.\n",
    "\n",
    "### **2. Immigration processing platforms:** These services help people meet the requirements and perform the necessary procedures to move to another country, such as applying for visas or residence permits.\n",
    "\n",
    "### **3.Social integration platforms:** These services provide support and resources to migrants to help them integrate into their new home, such as information on labor rights, medical and educational services.\n",
    "\n",
    "### **4.Migration Monitoring Platforms:** These platforms collect and analyze migration data to identify trends and patterns, and can be used by humanitarian organizations, governments and others to make informed decisions.\n",
    "\n",
    "### **5.Financial support platforms:** These services provide safe and accessible remittance solutions for migrants to send money to their families in their countries of origin.\n",
    "\n",
    "### These are just a few examples, and there are many other platforms and services that address different aspects of migration and help migrants and organizations."
   ]
  },
  {
   "attachments": {},
   "cell_type": "markdown",
   "metadata": {},
   "source": [
    "\n",
    "### Here are 5 link options for each type of platform :\n",
    "\n",
    "### **1. Organizations related to the rights of migrants:**\n",
    "\n",
    "#### Amnesty International: https://www.amnesty.org/\n",
    "#### Human Rights Watch: https://www.hrw.org/\n",
    "#### Defenders of Human Rights Center: https://www.iranhumanrights.org/\n",
    "#### International Commission of Jurists: https://www.icj.org/\n",
    "#### International Service for Human Rights: https://www.ishr.ch/\n",
    "\n"
   ]
  },
  {
   "attachments": {},
   "cell_type": "markdown",
   "metadata": {},
   "source": [
    "<p align=\"center\">\n",
    "<img src=.\"imagen\\amnesty international.png\"  height=300>\n",
    "</p>\n",
    "<p align=\"center\">\n",
    "<img src=\"imagen\\amnesty2.png\"  height=300>\n",
    "</p>\n",
    "<p align=\"center\">\n",
    "<img src=\"imagen\\amnesty3.png\"  height=300>\n",
    "</p>\n",
    "<p align=\"center\">\n",
    "<img src=\"imagen\\amnesty4.png\"  height=300>\n",
    "</p>\n",
    "<p align=\"center\">\n",
    "<img src=\"imagen\\amnesty5.png\"  height=300>\n",
    "</p>"
   ]
  },
  {
   "attachments": {},
   "cell_type": "markdown",
   "metadata": {},
   "source": [
    "<div style=\"display: flex; justify-content: center; align-items: center;\">\n",
    "  <img src=\"imagen\\centerforhumans.png\"  height=300>\n",
    "  \n",
    "</div>\n"
   ]
  },
  {
   "attachments": {},
   "cell_type": "markdown",
   "metadata": {},
   "source": [
    "<div style=\"display: flex; justify-content: center; align-items: center;\">\n",
    "  <img src=\"imagen\\human0.png\"  height=300>\n",
    "  <img src=\"imagen\\human1.png\"  height=300>\n",
    "  \n",
    "</div>\n"
   ]
  },
  {
   "attachments": {},
   "cell_type": "markdown",
   "metadata": {},
   "source": [
    "<div style=\"display: flex; justify-content: center; align-items: center;\">\n",
    "  <img src=\"imagen\\human2.png\"  height=300>\n",
    "  <img src=\"imagen\\human3.png\"  height=300>\n",
    "  \n",
    "</div>"
   ]
  },
  {
   "attachments": {},
   "cell_type": "markdown",
   "metadata": {},
   "source": [
    "<div style=\"display: flex; justify-content: center; align-items: center;\">\n",
    "  <img src=\"imagen\\human4.png\"  height=300>\n",
    "  <img src=\"imagen\\human5.png\"  height=300>\n",
    "  \n",
    "</div>"
   ]
  },
  {
   "attachments": {},
   "cell_type": "markdown",
   "metadata": {},
   "source": [
    "<p align=\"center\">\n",
    "<img src=\"imagen\\international1.png\"  height=300>\n",
    "</p>\n",
    "<p align=\"center\">\n",
    "<img src=\"imagen\\international2.png\"  height=300>\n",
    "</p>"
   ]
  },
  {
   "attachments": {},
   "cell_type": "markdown",
   "metadata": {},
   "source": [
    "<div style=\"display: flex; justify-content: center; align-items: center;\">\n",
    "  <img src=\"imagen\\strategic.png\"  height=300>\n",
    "  <img src=\"imagen\\strategic2.png\"  height=300>\n",
    "  <img src=\"imagen\\strategic3.png\"  height=300>\n",
    "</div>"
   ]
  },
  {
   "attachments": {},
   "cell_type": "markdown",
   "metadata": {},
   "source": [
    "<div style=\"display: flex; justify-content: center; align-items: center;\">\n",
    "  <img src=\"imagen\\strategic4.png\"  height=300>\n",
    "  <img src=\"imagen\\strategic5.png\"  height=300>\n",
    "  <img src=\"imagen\\strategic6.png\"  height=300>\n",
    "</div>"
   ]
  },
  {
   "attachments": {},
   "cell_type": "markdown",
   "metadata": {},
   "source": [
    "### **2.Organizations of the ONU related to migration:**\n",
    "\n",
    "#### United Nations Development Programme (UNDP): https://www.undp.org/\n",
    "#### United Nations Children's Fund (UNICEF): https://www.unicef.org/\n",
    "#### United Nations High Commissioner for Refugees (UNHCR): https://www.unhcr.org/\n",
    "#### International Organization for Migration (IOM): https://www.iom.int/\n",
    "#### United Nations Population Fund (UNFPA): https://www.unfpa.org/\n",
    "\n"
   ]
  },
  {
   "cell_type": "markdown",
   "metadata": {},
   "source": [
    "<div style=\"display: flex; justify-content: center; align-items: center;\">\n",
    "  <img src=\"imagen\\undp.png\"  height=300>\n",
    "  <img src=\"imagen\\undp2.png\"  height=300>\n",
    "  <img src=\"imagen\\undp3.png\"  height=300>\n",
    "</div>"
   ]
  },
  {
   "cell_type": "markdown",
   "metadata": {},
   "source": [
    "<div style=\"display: flex; justify-content: center; align-items: center;\">\n",
    "  <img src=\"imagen\\undp4.png\"  height=300>\n",
    "  <img src=\"imagen\\undp5.png\"  height=300>\n",
    "  <img src=\"imagen\\undp6_impact.png\"  height=300>\n",
    "</div>"
   ]
  },
  {
   "cell_type": "markdown",
   "metadata": {},
   "source": [
    "<div style=\"display: flex; justify-content: center; align-items: center;\">\n",
    "  <img src=\"imagen\\undp7.png\"  height=300>\n",
    "  \n",
    "</div>"
   ]
  },
  {
   "cell_type": "markdown",
   "metadata": {},
   "source": [
    "<div style=\"display: flex; justify-content: center; align-items: center;\">\n",
    "  <img src=\"imagen\\undp8.png\"  height=300>\n",
    "  <img src=\"imagen\\undp9.png\"  height=300>\n",
    "</div>"
   ]
  },
  {
   "attachments": {},
   "cell_type": "markdown",
   "metadata": {},
   "source": [
    "<div style=\"display: flex; justify-content: center; align-items: center;\">\n",
    "  <img src=\"imagen\\unicef1.png\"  height=300>\n",
    "\n",
    "</div>"
   ]
  },
  {
   "attachments": {},
   "cell_type": "markdown",
   "metadata": {},
   "source": [
    "<div style=\"display: flex; justify-content: center; align-items: center;\">\n",
    "  <img src=\"imagen\\unicef2.png\"  height=300>\n",
    " \n",
    "</div>"
   ]
  },
  {
   "attachments": {},
   "cell_type": "markdown",
   "metadata": {},
   "source": [
    "<div style=\"display: flex; justify-content: center; align-items: center;\">\n",
    "  <img src=\"imagen\\unicef4.png\"  height=300>\n",
    "</div>\n",
    "<div style=\"display: flex; justify-content: center; align-items: center;\">\n",
    "  <img src=\"imagen\\unicef5.png\"  height=300>\n",
    "</div>\n",
    "<div style=\"display: flex; justify-content: center; align-items: center;\">\n",
    "  <img src=\"imagen\\unicef6.png\"  height=300>\n",
    "</div>\n",
    "<div style=\"display: flex; justify-content: center; align-items: center;\">\n",
    "  <img src=\"imagen\\unicef7.png\"  height=300>\n",
    "</div>"
   ]
  },
  {
   "attachments": {},
   "cell_type": "markdown",
   "metadata": {},
   "source": [
    "<p align=\"center\">\n",
    "<img src=\"imagen\\ctdc.png\"  height=300>\n",
    "</p>\n",
    "<p align=\"center\">\n",
    "<img src=\"imagen\\ctdc2.png\"  height=300>\n",
    "</p>\n",
    "<p align=\"center\">\n",
    "<img src=\"imagen\\ctdc3.png\"  height=300>\n",
    "</p>\n",
    "<p align=\"center\">\n",
    "<img src=\"imagen\\ctdc4.png\"  height=300>\n",
    "</p>\n",
    "<p align=\"center\">\n",
    "<img src=\"imagen\\ctdc5.png\"  height=300>\n",
    "</p>\n",
    "<p align=\"center\">\n",
    "<img src=\"imagen\\ctdc6.png\"  height=300>\n",
    "</p>\n",
    "<p align=\"center\">\n",
    "<img src=\"imagen\\ctdc7.png\"  height=300>\n",
    "</p>"
   ]
  },
  {
   "attachments": {},
   "cell_type": "markdown",
   "metadata": {},
   "source": [
    "### **3. Migration research institutes:**\n",
    "\n",
    "#### Migration Policy Institute: https://www.migrationpolicy.org/\n",
    "#### Center for Global Development: https://www.cgdev.org/\n",
    "#### Brookings Institution: https://www.brookings.edu/\n",
    "#### Carnegie Endowment for International Peace: https://carnegieendowment.org/\n",
    "#### Migration Observatory: https://migrationobservatory.ox.ac.uk/\n",
    "\n"
   ]
  },
  {
   "attachments": {},
   "cell_type": "markdown",
   "metadata": {},
   "source": [
    "<div style=\"display: flex; justify-content: center; align-items: center;\">\n",
    "  <img src=\"imagen\\migra.png\"  height=300>\n",
    "  <img src=\"imagen\\migra2.png\"  height=300>\n",
    "  <img src=\"imagen\\migra3.png\"  height=300>\n",
    "</div>"
   ]
  },
  {
   "attachments": {},
   "cell_type": "markdown",
   "metadata": {},
   "source": [
    "<div style=\"display: flex; justify-content: center; align-items: center;\">\n",
    "  <img src=\"imagen\\migra4.png\"  height=300>\n",
    "  <img src=\"imagen\\migra5.png\"  height=300>\n",
    "  <img src=\"imagen\\migra6.png\"  height=300>\n",
    "</div>"
   ]
  },
  {
   "attachments": {},
   "cell_type": "markdown",
   "metadata": {},
   "source": [
    "<div style=\"display: flex; justify-content: center; align-items: center;\">\n",
    "  <img src=\"imagen\\migra7.png\"  height=300>\n",
    "  <img src=\"imagen\\migra8.png\"  height=300>\n",
    "</div>"
   ]
  },
  {
   "attachments": {},
   "cell_type": "markdown",
   "metadata": {},
   "source": [
    "### **4. Migration monitoring platforms:**\n",
    "\n",
    "Internal Displacement Monitoring Centre (IDMC): https://www.internal-displacement.org/\n",
    "\n",
    "United Nations High Commissioner for Refugees (UNHCR): https://www.unhcr.org/\n",
    "\n",
    "World Bank Migration and Remittances Unit: https://data.worldbank.org/topic/migration-and-remittances\n",
    "\n",
    "IOM Displacement Tracking Matrix (DTM): https://dtm.iom.int/"
   ]
  },
  {
   "attachments": {},
   "cell_type": "markdown",
   "metadata": {},
   "source": [
    "<p align=\"center\">\n",
    "<img src=\"imagen\\gloobal.png\"  height=300>\n",
    "</p>\n",
    "<p align=\"center\">\n",
    "<img src=\"imagen\\global2.png\"  height=300>\n",
    "</p>\n",
    "<p align=\"center\">\n",
    "<img src=\"imagen\\global3.png\"  height=300>\n",
    "</p>\n"
   ]
  },
  {
   "attachments": {},
   "cell_type": "markdown",
   "metadata": {},
   "source": [
    "<p align=\"center\">\n",
    "<img src=\"imagen\\global4.png\"  height=300>\n",
    "</p>\n"
   ]
  },
  {
   "attachments": {},
   "cell_type": "markdown",
   "metadata": {},
   "source": [
    "<div style=\"display: flex; justify-content: center; align-items: center;\">\n",
    "  <img src=\"imagen\\iom.png\"  height=300>\n",
    "  <img src=\"imagen\\iom2.png\"  height=300>\n",
    "</div>"
   ]
  },
  {
   "attachments": {},
   "cell_type": "markdown",
   "metadata": {},
   "source": [
    "### **5. Technological platforms for migration:**\n",
    "\n",
    "#### Habitat for Humanity International: https://www.habitat.org/\n",
    "#### Better Shelter: https://bettershelter.org/\n"
   ]
  },
  {
   "attachments": {},
   "cell_type": "markdown",
   "metadata": {},
   "source": [
    "<div style=\"display: flex; justify-content: center; align-items: center;\">\n",
    "  <img src=\"imagen\\habitat.png\"  height=300>\n",
    "</div>"
   ]
  },
  {
   "attachments": {},
   "cell_type": "markdown",
   "metadata": {},
   "source": [
    "<div style=\"display: flex; justify-content: center; align-items: center;\">\n",
    "  <img src=\"imagen\\better.png\"  height=300>\n",
    "  <img src=\"imagen\\better2.png\"  height=300>\n",
    "</div>"
   ]
  },
  {
   "attachments": {},
   "cell_type": "markdown",
   "metadata": {},
   "source": [
    "# ***Conclusions***\n",
    "\n",
    "### We can see these organizations use powerful images to show the services they provide.\n",
    "### They detail their graphs interactively and rely mostly on two highlighting colors .\n",
    "### Figures + photographs are a very powerful factor in attracting the user's attention.\n",
    "### The importance of drop-down menus that take up the entire screen, are concise alternatives and the search factor is comfortable.\n",
    "### Concise Filters.\n",
    "### Concise sections that explain the data flow as they detail the data like a dictionary.\n",
    "### Visual support plus short but informative texts to determine the type of product they offer is a factor that is present on all these platforms."
   ]
  }
 ],
 "metadata": {
  "kernelspec": {
   "display_name": "Python 3",
   "language": "python",
   "name": "python3"
  },
  "language_info": {
   "name": "python",
   "version": "3.10.10"
  },
  "orig_nbformat": 4,
  "vscode": {
   "interpreter": {
    "hash": "6351f0de287c121fd47b6c16e3e491b61963ef08798aec7663ead6d589c24708"
   }
  }
 },
 "nbformat": 4,
 "nbformat_minor": 2
}
